{
 "cells": [
  {
   "cell_type": "code",
   "execution_count": 1,
   "metadata": {},
   "outputs": [
    {
     "name": "stdout",
     "output_type": "stream",
     "text": [
      "{'h5_dir': '/data1/AEC_SharedFiles/Stanford_Data/h5s_dosenoise', 'train_file': './data/train_120kVp[CAP]_20240121_20more.xlsx', 'val_file': './data/val_120kVp[CAP].xlsx', 'test_file': './data/test_120kVp[CAP].xlsx', 'train_num': 'all', 'val_num': 'all', 'test_num': 'all', 'ft_arc': 'resnet18', 'save_dir': './wts_20more', 'max_epoch': 1000, 'protocol': '120kVp[CAP]', 'scouts_range': [0, 800]}\n"
     ]
    }
   ],
   "source": [
    "import os\n",
    "import random\n",
    "import sys\n",
    "import time\n",
    "\n",
    "import json\n",
    "\n",
    "import numpy as np\n",
    "import matplotlib.pyplot as plt\n",
    "from sklearn.preprocessing import PolynomialFeatures\n",
    "from sklearn.linear_model import LinearRegression\n",
    "from sklearn.metrics import mean_squared_error\n",
    "\n",
    "from utils.direct_dataset import DirectDataset\n",
    "\n",
    "cfg_fname       = './cfgs/nonfat_cfg.json'\n",
    "this_cfg        = json.load(open(cfg_fname, 'r'))\n",
    "\n",
    "print(this_cfg)\n",
    "\n",
    "# dataset for train/val/test\n",
    "trainset = DirectDataset(h5_dir=this_cfg['h5_dir'], scanlist=this_cfg['train_file'], tgtlist='./data/nonfat_reference.xlsx',\n",
    "                         casenum=this_cfg['train_num'], imsize=None, scouts_range=this_cfg['scouts_range'])\n",
    "\n",
    "valset   = DirectDataset(h5_dir=this_cfg['h5_dir'], scanlist=this_cfg['val_file'], tgtlist='./data/nonfat_reference.xlsx',\n",
    "                         casenum=this_cfg['val_num'], imsize=None, scouts_range=this_cfg['scouts_range'])\n",
    "\n",
    "testset  = DirectDataset(h5_dir=this_cfg['h5_dir'], scanlist=this_cfg['test_file'], tgtlist='./data/nonfat_reference.xlsx',\n",
    "                         casenum=this_cfg['test_num'], imsize=None, scouts_range=this_cfg['scouts_range'])\n",
    "\n",
    "train_ft = {}\n",
    "train_ft['Size']        = [trainset[ii]['Size'] for ii in range(len(trainset))]\n",
    "train_ft['Weight']      = [trainset[ii]['Weight'] for ii in range(len(trainset))]\n",
    "train_ft['torso_wt']    = [trainset[ii]['torso_wt'] for ii in range(len(trainset))]\n",
    "\n",
    "train_ft['lean_torso_wt']    = [trainset[ii]['lean_torso_wt'] for ii in range(len(trainset))]\n",
    "train_ft['subcutaneous_fat'] = [trainset[ii]['subcutaneous_fat'] for ii in range(len(trainset))]\n",
    "\n",
    "\n",
    "test_ft = {}\n",
    "test_ft['Size']        = [testset[ii]['Size'] for ii in range(len(testset))]\n",
    "test_ft['Weight']      = [testset[ii]['Weight'] for ii in range(len(testset))]\n",
    "test_ft['torso_wt']    = [testset[ii]['torso_wt'] for ii in range(len(testset))]\n",
    "\n",
    "test_ft['lean_torso_wt']    = [testset[ii]['lean_torso_wt'] for ii in range(len(testset))]\n",
    "test_ft['subcutaneous_fat'] = [testset[ii]['subcutaneous_fat'] for ii in range(len(testset))]"
   ]
  },
  {
   "cell_type": "code",
   "execution_count": 6,
   "metadata": {},
   "outputs": [],
   "source": [
    "# univariate fitting\n",
    "degree = 2\n",
    "\n",
    "X_train = np.array(train_ft['Weight']).reshape(-1, 1)\n",
    "y_train = np.array(train_ft['lean_torso_wt'])\n",
    "\n",
    "y_train = y_train[np.nonzero(X_train.squeeze())]\n",
    "X_train = X_train[np.nonzero(X_train.squeeze())]\n",
    "\n",
    "# Create polynomial features\n",
    "poly = PolynomialFeatures(degree=degree, include_bias=False)\n",
    "X_poly = poly.fit_transform(X_train)\n",
    "\n",
    "# Fit the polynomial regression model\n",
    "model = LinearRegression()\n",
    "model.fit(X_poly, y_train)\n",
    "\n",
    "# predict on test data\n",
    "X_test = np.array(test_ft['Weight']).reshape(-1, 1)\n",
    "y_test = np.array(test_ft['lean_torso_wt'])\n",
    "\n",
    "y_pred = model.predict(poly.fit_transform(X_test))"
   ]
  },
  {
   "cell_type": "code",
   "execution_count": 7,
   "metadata": {},
   "outputs": [
    {
     "name": "stdout",
     "output_type": "stream",
     "text": [
      "27.927514498753208\n",
      "32.95632141462099\n",
      "24.218320865947003\n",
      "29.443977723202806\n",
      "28.982819988582122\n",
      "34.051988090302146\n",
      "24.538135180837912\n",
      "26.870888356783237\n",
      "28.445269626636893\n",
      "3.3264438010344826\n",
      "22.267588180908955\n",
      "31.552726914350625\n",
      "31.5710999326073\n",
      "27.53414798916775\n",
      "35.3892213095334\n"
     ]
    }
   ],
   "source": [
    "for ii in range(len(y_pred)):\n",
    "    print(y_pred[ii])"
   ]
  },
  {
   "cell_type": "code",
   "execution_count": null,
   "metadata": {},
   "outputs": [],
   "source": []
  }
 ],
 "metadata": {
  "kernelspec": {
   "display_name": "totalseg-v2",
   "language": "python",
   "name": "python3"
  },
  "language_info": {
   "codemirror_mode": {
    "name": "ipython",
    "version": 3
   },
   "file_extension": ".py",
   "mimetype": "text/x-python",
   "name": "python",
   "nbconvert_exporter": "python",
   "pygments_lexer": "ipython3",
   "version": "3.9.18"
  }
 },
 "nbformat": 4,
 "nbformat_minor": 2
}
